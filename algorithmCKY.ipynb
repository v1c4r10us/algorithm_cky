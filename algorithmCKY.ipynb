{
 "cells": [
  {
   "cell_type": "code",
   "execution_count": 1,
   "id": "6fed9ace-dc3d-4b1d-b3ad-d92887ce8492",
   "metadata": {},
   "outputs": [],
   "source": [
    "import json #Importamos libreria para lectura de json files"
   ]
  },
  {
   "cell_type": "code",
   "execution_count": 2,
   "id": "8f098304-31a8-4353-a3c9-3209c71f1930",
   "metadata": {},
   "outputs": [],
   "source": [
    "f=open('rules.json',\"r\") #Abrimos el fichero de reglas en modo lectura\n",
    "data = json.loads(f.read()) #Y cargamos su información en data\n",
    "f.close() #Cerramos el proceso de lectura"
   ]
  }
 ],
 "metadata": {
  "kernelspec": {
   "display_name": "Python 3 (ipykernel)",
   "language": "python",
   "name": "python3"
  },
  "language_info": {
   "codemirror_mode": {
    "name": "ipython",
    "version": 3
   },
   "file_extension": ".py",
   "mimetype": "text/x-python",
   "name": "python",
   "nbconvert_exporter": "python",
   "pygments_lexer": "ipython3",
   "version": "3.9.7"
  }
 },
 "nbformat": 4,
 "nbformat_minor": 5
}
